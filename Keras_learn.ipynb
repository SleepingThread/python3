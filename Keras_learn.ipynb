{
 "cells": [
  {
   "cell_type": "code",
   "execution_count": null,
   "metadata": {},
   "outputs": [],
   "source": [
    "import keras\n",
    "import keras.backend as K\n",
    "from keras.layers import RNN\n",
    "\n",
    "from keras.preprocessing.sequence import TimeseriesGenerator\n",
    "\n",
    "class MinimalRNNCell(keras.layers.Layer):\n",
    "    def __init__(self,units):\n",
    "        self.units = units\n",
    "        self.state_size = units #??\n",
    "        super(MinimalRNNCell,self).__init__()\n",
    "        return\n",
    "    \n",
    "    def build(self,input_shape):\n",
    "        self.kernel = self.add_weight(shape=(input_shape[-1],self.units),\n",
    "                                      initializer='uniform', name='kernel')\n",
    "        self.r_kernel = self.add_weight(shape=(self.units,self.units),\n",
    "                                      initializer='uniform', name='r_kernel')\n",
    "        self.built = True #??\n",
    "        return\n",
    "    \n",
    "    def call(self,inputs,states):\n",
    "        prev_out = states[0]\n",
    "        h = K.dot(inputs,self.kernel)\n",
    "        output = h+K.dot(prev_out,self.r_kernel)\n",
    "        return output, [output]\n"
   ]
  },
  {
   "cell_type": "code",
   "execution_count": null,
   "metadata": {},
   "outputs": [],
   "source": [
    "cell = [MinimalRNNCell(32), MinimalRNNCell(28)]\n",
    "# or can be cells = []\n",
    "# None - for time distribution?\n",
    "x = keras.Input((None,5))\n",
    "layer = RNN(cell,return_sequences=True)\n",
    "y = layer(x)\n",
    "from keras.models import Model\n",
    "model = Model(inputs=[x],outputs=[y])\n",
    "print (model.layers)"
   ]
  },
  {
   "cell_type": "code",
   "execution_count": null,
   "metadata": {},
   "outputs": [],
   "source": [
    "##\n",
    "## TimeseriesGenerator\n",
    "##\n",
    "import numpy as np\n",
    "data = np.array([i for i in range(50)])\n",
    "targets = np.array([-i-1 for i in range(50)])\n",
    "data_gen = TimeseriesGenerator(data, targets,\n",
    "                               length=10, sampling_rate=2,stride=2,\n",
    "                               batch_size=2)\n",
    "print (data_gen[0][0])\n",
    "# call model.fit_generator"
   ]
  },
  {
   "cell_type": "code",
   "execution_count": null,
   "metadata": {},
   "outputs": [],
   "source": [
    "## Task 1\n",
    "## Research simple model, get gradients, different parameters\n",
    "##"
   ]
  },
  {
   "cell_type": "code",
   "execution_count": null,
   "metadata": {},
   "outputs": [],
   "source": [
    "import numpy as np\n",
    "import keras\n",
    "from keras.models import Sequential\n",
    "from keras.layers import Dense\n",
    "from keras.optimizers import SGD,Adam\n",
    "\n",
    "model_data = np.random.rand(100,5)\n",
    "model_labels = np.random.rand(100,10)\n",
    "\n",
    "model = Sequential((Dense(10,input_shape=(5,)),))\n",
    "optimizer = SGD(lr=0.01)\n",
    "\n",
    "model.compile(optimizer=optimizer,loss=\"mse\")\n",
    "\n",
    "model.fit(model_data,model_labels,batch_size=10,verbose=1,epochs=1,validation_split=0.1)\n",
    "\n",
    "print (model.output)\n",
    "print (model.trainable_weights)"
   ]
  },
  {
   "cell_type": "code",
   "execution_count": null,
   "metadata": {},
   "outputs": [],
   "source": [
    "import keras.backend as K\n",
    "\n",
    "gradients = K.gradients(model.total_loss,model.trainable_weights)\n",
    "print (gradients)\n",
    "print (model.total_loss)\n",
    "\n",
    "input_tensors = [model.inputs[0], # input data\n",
    "                 model.sample_weights[0], # how much to weight each sample by\n",
    "                 model.targets[0], # labels\n",
    "                 K.learning_phase(), # train or test mode\n",
    "]\n",
    "get_gradients = K.function(inputs=input_tensors, outputs=gradients)\n",
    "inputs = [[model_data[0]],[1],[model_labels[0]],0]\n",
    "print (get_gradients(inputs))"
   ]
  },
  {
   "cell_type": "code",
   "execution_count": null,
   "metadata": {},
   "outputs": [],
   "source": [
    "import keras.backend as K\n",
    "\n",
    "gradients = model.optimizer.get_gradients(model.total_loss,model.trainable_weights)\n",
    "print (gradients)\n",
    "print (model.total_loss)\n",
    "\n",
    "input_tensors = [model.inputs[0], # input data\n",
    "                 model.sample_weights[0], # how much to weight each sample by\n",
    "                 model.targets[0], # labels\n",
    "                 K.learning_phase(), # train or test mode\n",
    "]\n",
    "get_gradients = K.function(inputs=input_tensors, outputs=gradients)\n",
    "inputs = [[model_data[0]],[1],[model_labels[0]],0]\n",
    "print (get_gradients(inputs))"
   ]
  },
  {
   "cell_type": "code",
   "execution_count": null,
   "metadata": {},
   "outputs": [],
   "source": []
  },
  {
   "cell_type": "code",
   "execution_count": 46,
   "metadata": {},
   "outputs": [],
   "source": [
    "def getModelGradients(model,data,labels):\n",
    "    \"\"\"\n",
    "    data - data, feeded to the model - [tens(input_shape),tens(input_shape)...]\n",
    "    \"\"\"\n",
    "    grad_tens = K.gradients(model.total_loss,model.trainable_weights)\n",
    "    #gradients = model.optimizer.get_gradients()\n",
    "    input_tens = [model.inputs[0],model.sample_weights[0],model.targets[0],K.learning_phase()]\n",
    "    get_gradients = K.function(inputs=input_tens,outputs=grad_tens)\n",
    "    return get_gradients([data,len(data)*[1],labels,0])"
   ]
  },
  {
   "cell_type": "code",
   "execution_count": null,
   "metadata": {},
   "outputs": [],
   "source": [
    "import keras.backend as K\n",
    "\n",
    "gradients = model.optimizer.get_gradients(model.total_loss,model.trainable_weights)\n",
    "print (gradients)\n",
    "print (model.total_loss)\n",
    "\n",
    "input_tensors = [model.inputs[0], # input data\n",
    "                 model.sample_weights[0], # how much to weight each sample by\n",
    "                 model.targets[0], # labels\n",
    "                 K.learning_phase(), # train or test mode\n",
    "]\n",
    "get_gradients = K.function(inputs=input_tensors, outputs=gradients)\n",
    "inputs = [[model_data[0]],[1],[model_labels[0]],0]\n",
    "print (get_gradients(inputs))"
   ]
  },
  {
   "cell_type": "code",
   "execution_count": null,
   "metadata": {},
   "outputs": [],
   "source": []
  },
  {
   "cell_type": "code",
   "execution_count": null,
   "metadata": {},
   "outputs": [],
   "source": [
    "import keras.backend as K\n",
    "import numpy as np\n",
    "\n",
    "var = K.variable(value=np.array([1,2,3],dtype=np.float16))\n",
    "res = var*var\n",
    "print (res)"
   ]
  },
  {
   "cell_type": "code",
   "execution_count": null,
   "metadata": {},
   "outputs": [],
   "source": [
    "fun = K.function(inputs=[],outputs=[res])\n",
    "print (fun([]))"
   ]
  },
  {
   "cell_type": "code",
   "execution_count": null,
   "metadata": {},
   "outputs": [],
   "source": [
    "K.eval(res)"
   ]
  },
  {
   "cell_type": "code",
   "execution_count": null,
   "metadata": {},
   "outputs": [],
   "source": [
    "K.eval(K.constant(np.array([1,2,3,4])))"
   ]
  },
  {
   "cell_type": "code",
   "execution_count": null,
   "metadata": {},
   "outputs": [],
   "source": []
  },
  {
   "cell_type": "code",
   "execution_count": null,
   "metadata": {},
   "outputs": [],
   "source": [
    "a = K.constant(np.array([2,3]))\n",
    "b = K.constant(np.array([[10,10],[20,20]]))\n",
    "res = a*b\n",
    "print (K.eval(res))\n",
    "print (K.eval(K.sum(res,axis=1)))"
   ]
  },
  {
   "cell_type": "code",
   "execution_count": 49,
   "metadata": {},
   "outputs": [
    {
     "data": {
      "text/plain": [
       "array([0.00031623], dtype=float32)"
      ]
     },
     "execution_count": 49,
     "metadata": {},
     "output_type": "execute_result"
    }
   ],
   "source": [
    "import keras \n",
    "import keras.backend as K\n",
    "from keras.models import Model\n",
    "from keras.layers import Input, Lambda,Dense\n",
    "import numpy as np\n",
    "from keras.initializers import Initializer\n",
    "\n",
    "class Zer(Initializer):\n",
    "    def __call__(self,shape,dtype=None):\n",
    "        return np.zeros(shape)\n",
    "\n",
    "class Mult(keras.layers.Layer):\n",
    "    def __init__(self):\n",
    "        super(Mult,self).__init__()\n",
    "        return\n",
    "    \n",
    "    def build(self,input_shape):\n",
    "        self.w = self.add_weight(shape=(input_shape[-1],),\n",
    "                                      initializer=Zer(), name='w')\n",
    "        self.built = True #??\n",
    "        return\n",
    "    \n",
    "    def call(self,inputs):\n",
    "        output = inputs*self.w\n",
    "        return output\n",
    "\n",
    "    # def compute_output_shape(self, input_shape): - do not need\n",
    "\n",
    "inp = Input(shape=(5,))\n",
    "mul = Mult()(inp)\n",
    "#out = Lambda(lambda x: K.sqrt(K.sum(x*x)) )(mul)\n",
    "out = Lambda(lambda x: K.sqrt(K.sum(x*x)+K.epsilon()) , output_shape=(1,) )(mul)\n",
    "\n",
    "model = Model(inputs=inp,outputs=out)\n",
    "model.compile(loss=\"mse\",optimizer=\"sgd\")\n",
    "model.predict(np.array([[1,2,3,4,5]]))"
   ]
  },
  {
   "cell_type": "code",
   "execution_count": 51,
   "metadata": {},
   "outputs": [
    {
     "data": {
      "text/plain": [
       "[array([0., 0., 0., 0., 0.], dtype=float32)]"
      ]
     },
     "execution_count": 51,
     "metadata": {},
     "output_type": "execute_result"
    }
   ],
   "source": [
    "getModelGradients(model,np.array([[1,1,1,1,1]]),np.array([[0]]))"
   ]
  },
  {
   "cell_type": "code",
   "execution_count": null,
   "metadata": {},
   "outputs": [],
   "source": []
  },
  {
   "cell_type": "code",
   "execution_count": null,
   "metadata": {},
   "outputs": [],
   "source": []
  },
  {
   "cell_type": "code",
   "execution_count": null,
   "metadata": {},
   "outputs": [],
   "source": [
    "class MinimalRNNCell(keras.layers.Layer):\n",
    "    def __init__(self,units):\n",
    "        self.units = units\n",
    "        self.state_size = units #??\n",
    "        super(MinimalRNNCell,self).__init__()\n",
    "        return\n",
    "    \n",
    "    def build(self,input_shape):\n",
    "        self.kernel = self.add_weight(shape=(input_shape[-1],self.units),\n",
    "                                      initializer='uniform', name='kernel')\n",
    "        self.r_kernel = self.add_weight(shape=(self.units,self.units),\n",
    "                                      initializer='uniform', name='r_kernel')\n",
    "        self.built = True #??\n",
    "        return\n",
    "    \n",
    "    def call(self,inputs,states):\n",
    "        prev_out = states[0]\n",
    "        h = K.dot(inputs,self.kernel)\n",
    "        output = h+K.dot(prev_out,self.r_kernel)\n",
    "        return output, [output]\n"
   ]
  },
  {
   "cell_type": "code",
   "execution_count": null,
   "metadata": {},
   "outputs": [],
   "source": []
  },
  {
   "cell_type": "code",
   "execution_count": null,
   "metadata": {},
   "outputs": [],
   "source": []
  },
  {
   "cell_type": "code",
   "execution_count": null,
   "metadata": {},
   "outputs": [],
   "source": []
  },
  {
   "cell_type": "code",
   "execution_count": null,
   "metadata": {},
   "outputs": [],
   "source": [
    "import numpy as np\n",
    "import keras\n",
    "from keras.models import Sequential\n",
    "from keras.layers import Dense\n",
    "from keras.optimizers import SGD,Adam\n",
    "\n",
    "from pycallgraph import PyCallGraph\n",
    "from pycallgraph.output import GraphvizOutput\n",
    "\n",
    "model_data = np.random.rand(100,5)\n",
    "model_labels = np.random.rand(100,10)\n",
    "\n",
    "\n",
    "graphviz = GraphvizOutput()\n",
    "graphviz.output_file = 'pycallgraph1.bmp'\n",
    "\n",
    "with PyCallGraph(output=graphviz):\n",
    "    model = Sequential((Dense(10,input_shape=(5,)),))\n",
    "    optimizer = SGD(lr=0.01)\n",
    "\n",
    "    model.compile(optimizer=optimizer,loss=\"mse\")\n",
    "\n",
    "    model.fit(model_data,model_labels,batch_size=10,verbose=1,epochs=1,validation_split=0.1)"
   ]
  },
  {
   "cell_type": "code",
   "execution_count": null,
   "metadata": {},
   "outputs": [],
   "source": []
  },
  {
   "cell_type": "code",
   "execution_count": null,
   "metadata": {},
   "outputs": [],
   "source": []
  },
  {
   "cell_type": "code",
   "execution_count": null,
   "metadata": {},
   "outputs": [],
   "source": [
    "## Task 2\n",
    "## Research Abilities to write custom layers, optimizers, losses\n",
    "##"
   ]
  },
  {
   "cell_type": "code",
   "execution_count": null,
   "metadata": {},
   "outputs": [],
   "source": []
  },
  {
   "cell_type": "code",
   "execution_count": null,
   "metadata": {},
   "outputs": [],
   "source": [
    "## Task 3\n",
    "## Research Abilities to make clusterized layers \n",
    "## (where elements in matrix are not independent)\n",
    "##"
   ]
  },
  {
   "cell_type": "code",
   "execution_count": null,
   "metadata": {},
   "outputs": [],
   "source": []
  }
 ],
 "metadata": {
  "kernelspec": {
   "display_name": "Python 3.6",
   "language": "python",
   "name": "python3"
  },
  "language_info": {
   "codemirror_mode": {
    "name": "ipython",
    "version": 3
   },
   "file_extension": ".py",
   "mimetype": "text/x-python",
   "name": "python",
   "nbconvert_exporter": "python",
   "pygments_lexer": "ipython3",
   "version": "3.6.7"
  }
 },
 "nbformat": 4,
 "nbformat_minor": 2
}
