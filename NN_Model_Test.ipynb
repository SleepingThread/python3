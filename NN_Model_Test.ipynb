{
 "cells": [
  {
   "cell_type": "code",
   "execution_count": null,
   "metadata": {},
   "outputs": [],
   "source": [
    "from keras.models import Model\n",
    "from keras.layers import Input,Dense,TimeDistributed"
   ]
  },
  {
   "cell_type": "code",
   "execution_count": null,
   "metadata": {},
   "outputs": [],
   "source": [
    "inp = Input(shape=(6,10))\n",
    "td1 = TimeDistributed(Dense(5))(inp)\n",
    "model = Model(inputs=inp,outputs=td1)"
   ]
  },
  {
   "cell_type": "code",
   "execution_count": null,
   "metadata": {},
   "outputs": [],
   "source": [
    "import keras\n",
    "import keras.backend as K\n",
    "from keras.layers import RNN\n",
    "\n",
    "class CCell(keras.layers.Layer):\n",
    "    def __init__(self,units,**kwargs):\n",
    "        self.units = units\n",
    "        self.state_size = units\n",
    "        super(CCell,self).__init__(**kwargs)\n",
    "        \n",
    "    def build(self,input_shape):\n",
    "        self.kernel = self.add_weight(shape=(input_shape[-1],self.units),\n",
    "                                      initializer=\"uniform\",\n",
    "                                      name='kernel')\n",
    "        self.rec_kernel = self.add_weight(shape=(self.units,self.units),initializer=\"uniform\",name=\"rec_kernel\")\n",
    "        self.built =  True\n",
    "        return\n",
    "    \n",
    "    def call(self,inputs,states):\n",
    "        p_out = states[0]\n",
    "        output = K.dot(inputs,self.kernel)+K.dot(p_out,self.rec_kernel)\n",
    "        return output,[output]\n",
    "    \n",
    "    \n",
    "inp = Input(shape=(6,10),name=\"inp\")\n",
    "td1 = TimeDistributed(Dense(5),name=\"td\")(inp)\n",
    "rn = RNN(CCell(5),name=\"rnn\")(td1)\n",
    "model = Model(inputs=inp,outputs=rn)\n",
    "\n",
    "# inp = Input(shape=(6,10))\n",
    "# td1 = TimeDistributed(Dense(5,trainable=False,use_bias=False))(inp)\n",
    "# rn = RNN(CCell(5))(td1)\n",
    "# model = Model(inputs=inp,outputs=rn)"
   ]
  },
  {
   "cell_type": "code",
   "execution_count": null,
   "metadata": {},
   "outputs": [],
   "source": []
  },
  {
   "cell_type": "code",
   "execution_count": null,
   "metadata": {},
   "outputs": [],
   "source": [
    "from st_global import timer_decorator"
   ]
  },
  {
   "cell_type": "code",
   "execution_count": null,
   "metadata": {},
   "outputs": [],
   "source": [
    "@timer_decorator\n",
    "def some_fun(func):\n",
    "    print func\n",
    "    time.sleep(10)\n",
    "    return func+19"
   ]
  },
  {
   "cell_type": "code",
   "execution_count": null,
   "metadata": {},
   "outputs": [],
   "source": [
    "some_fun(10)"
   ]
  },
  {
   "cell_type": "code",
   "execution_count": null,
   "metadata": {},
   "outputs": [],
   "source": []
  },
  {
   "cell_type": "code",
   "execution_count": null,
   "metadata": {},
   "outputs": [],
   "source": []
  },
  {
   "cell_type": "code",
   "execution_count": null,
   "metadata": {},
   "outputs": [],
   "source": [
    "import copy\n",
    "import numpy as np\n",
    "\n",
    "import st_keras\n",
    "reload(st_keras)\n",
    "\n",
    "import st_global\n",
    "reload(st_global)\n",
    "\n",
    "from st_global import isinstance_fromlist, hasattr_fromlist,iterate\n",
    "from st_keras import iterateKerasLayers,NNModel\n",
    "from st_global import set_path,apply_operation,get_path,exist_path\n",
    "\n",
    "import networkx as nx\n",
    "\n",
    "from IPython.display import SVG\n",
    "\n",
    "def fill_storage(storage,layer,types_to_copy,verbose=1):\n",
    "    for attr in layer.__dict__:\n",
    "        if isinstance_fromlist(layer.__dict__[attr],types_to_copy):\n",
    "            if verbose>0:\n",
    "                print \"copy \",attr,\" from \",layer\n",
    "            storage[attr] = layer.__dict__[attr]\n",
    "    \n",
    "    if hasattr(layer,\"layer\"):\n",
    "        storage[\"layer\"] = {}\n",
    "        fill_storage(storage[\"layer\"],layer.layer,types_to_copy)\n",
    "    if hasattr(layer,\"cell\"):\n",
    "        storage[\"cell\"] = {}\n",
    "        fill_storage(storage[\"cell\"],layer.cell,types_to_copy)\n",
    "\n",
    "    return\n",
    "\n",
    "def set_keras_layer(storage,layer,types_to_copy,verbose=1):\n",
    "    for key in storage:\n",
    "        if not hasattr(layer,key):\n",
    "            if verbose>0:\n",
    "                print \"-\",key,\" not exists in \",layer\n",
    "            continue\n",
    "            \n",
    "        if key!=\"layer\" and key!=\"cell\":\n",
    "            if isinstance_fromlist(layer.__dict__[key],types_to_copy):\n",
    "                K.set_value(layer.__dict__[key],storage[key])\n",
    "            else:\n",
    "                if verbose>0:\n",
    "                    print \"-\",key,\" in \",layer,\" (not in types_to_copy) \"        \n",
    "        else:\n",
    "            set_keras_layer(storage[key],layer.__dict__[key],types_to_copy)\n",
    "        \n",
    "    return\n"
   ]
  },
  {
   "cell_type": "code",
   "execution_count": null,
   "metadata": {},
   "outputs": [],
   "source": [
    "nn_model = NNModel()\n",
    "nn_model.fromKeras(model)\n",
    "nn_model.drawGraph()"
   ]
  },
  {
   "cell_type": "code",
   "execution_count": null,
   "metadata": {},
   "outputs": [],
   "source": [
    "import st_graph\n",
    "reload(st_graph)\n",
    "from st_graph import get_leaves, get_roots,add_depth\n",
    "import st_keras\n",
    "reload(st_keras)\n",
    "from st_keras import draw_weights\n",
    "import st_graphics \n",
    "reload(st_graphics)\n",
    "from st_graphics import bar_fromarray"
   ]
  },
  {
   "cell_type": "code",
   "execution_count": null,
   "metadata": {},
   "outputs": [],
   "source": [
    "inp = Input(shape=(6,10),name=\"inp\")\n",
    "td1 = TimeDistributed(Dense(5),name=\"td\")(inp)\n",
    "rn = RNN(CCell(5),name=\"rnn\")(td1)\n",
    "model2 = Model(inputs=inp,outputs=rn)\n",
    "\n",
    "\n",
    "nn_model2 = NNModel()\n",
    "nn_model2.fromKeras(model2)\n",
    "fig,ax = draw_weights(nn_model2,layers=None,names=[\"kernel\"])"
   ]
  },
  {
   "cell_type": "code",
   "execution_count": null,
   "metadata": {},
   "outputs": [],
   "source": [
    "fig,ax = draw_weights(nn_model,layers=None,names=[\"kernel\"])"
   ]
  },
  {
   "cell_type": "code",
   "execution_count": null,
   "metadata": {},
   "outputs": [],
   "source": [
    "fig,ax = draw_weights(nn_model2-nn_model,layers=None,names=[\"kernel\"])"
   ]
  },
  {
   "cell_type": "code",
   "execution_count": null,
   "metadata": {},
   "outputs": [],
   "source": []
  },
  {
   "cell_type": "code",
   "execution_count": null,
   "metadata": {},
   "outputs": [],
   "source": [
    "inp = Input(shape=(6,10),name=\"inp\")\n",
    "td1 = TimeDistributed(Dense(5),name=\"td\")(inp)\n",
    "rn = RNN(CCell(5),name=\"rnn\")(td1)\n",
    "model4 = Model(inputs=inp,outputs=rn)\n",
    "\n",
    "nn_model4 = NNModel()\n",
    "nn_model4.fromKeras(model4)\n",
    "fig,ax = draw_weights(nn_model4,layers=None,names=[\"kernel\"])"
   ]
  },
  {
   "cell_type": "code",
   "execution_count": null,
   "metadata": {},
   "outputs": [],
   "source": [
    "fig,ax = draw_weights(nn_model4-nn_model,layers=None,names=[\"kernel\"])"
   ]
  },
  {
   "cell_type": "code",
   "execution_count": null,
   "metadata": {},
   "outputs": [],
   "source": [
    "nn_model.setKeras(model4)"
   ]
  },
  {
   "cell_type": "code",
   "execution_count": null,
   "metadata": {},
   "outputs": [],
   "source": [
    "nn_model5 = NNModel()\n",
    "nn_model5.fromKeras(model4)"
   ]
  },
  {
   "cell_type": "code",
   "execution_count": null,
   "metadata": {},
   "outputs": [],
   "source": [
    "fig,ax = draw_weights(nn_model4-nn_model,layers=None,names=[\"kernel\"])"
   ]
  },
  {
   "cell_type": "code",
   "execution_count": null,
   "metadata": {},
   "outputs": [],
   "source": [
    "fig,ax = draw_weights(nn_model5-nn_model,layers=None,names=[\"kernel\"])"
   ]
  },
  {
   "cell_type": "code",
   "execution_count": null,
   "metadata": {},
   "outputs": [],
   "source": []
  },
  {
   "cell_type": "code",
   "execution_count": null,
   "metadata": {},
   "outputs": [],
   "source": [
    "_path = list(path_list[0])\n",
    "_path.insert(1,\"weights\")\n",
    "print _path\n",
    "exist_path(nn_model.graph.nodes[_path[0]],_path[1:])\n",
    "#nn_model.graph.nodes[_path[0]][\"weights\"][\"layer\"][\"kernel\"]"
   ]
  },
  {
   "cell_type": "code",
   "execution_count": null,
   "metadata": {},
   "outputs": [],
   "source": [
    "res = nn_model.graph.subgraph([\"input_3\"])"
   ]
  },
  {
   "cell_type": "code",
   "execution_count": null,
   "metadata": {},
   "outputs": [],
   "source": [
    "res.graph"
   ]
  },
  {
   "cell_type": "code",
   "execution_count": null,
   "metadata": {},
   "outputs": [],
   "source": []
  },
  {
   "cell_type": "code",
   "execution_count": null,
   "metadata": {
    "scrolled": true
   },
   "outputs": [],
   "source": [
    "# load values through batch_get_value\n",
    "\n",
    "res = {}\n",
    "\n",
    "paths = []\n",
    "keras_variables = []\n",
    "for el in iterateKerasLayers(model,types=[K.variable([0]).__class__]):\n",
    "    paths.append(el[0])\n",
    "    keras_variables.append(el[1])\n",
    "\n",
    "# we can replace batch_get_value with cycle with K.eval\n",
    "keras_values = K.batch_get_value(keras_variables)\n",
    "    \n",
    "for path,val in zip(paths,keras_values):\n",
    "    set_path(res,path[1:],val)"
   ]
  },
  {
   "cell_type": "code",
   "execution_count": null,
   "metadata": {},
   "outputs": [],
   "source": []
  },
  {
   "cell_type": "code",
   "execution_count": null,
   "metadata": {},
   "outputs": [],
   "source": [
    "from keras.layers import Add\n",
    "\n",
    "inp = Input(shape=(6,10))\n",
    "td1 = TimeDistributed(Dense(5))(inp)\n",
    "rn = RNN(CCell(5))(td1)\n",
    "rn2 = RNN(CCell(5))(td1)\n",
    "ad = Add()([rn,rn2])\n",
    "model = Model(inputs=inp,outputs=[rn,rn2,ad])\n",
    "\n",
    "res = model.get_config()"
   ]
  },
  {
   "cell_type": "code",
   "execution_count": null,
   "metadata": {},
   "outputs": [],
   "source": [
    "import networkx as nx\n",
    "\n",
    "def makeNXDiGraphfromConfig(config):\n",
    "    layers = config[\"layers\"]\n",
    "    \n",
    "    graph = nx.DiGraph()\n",
    "    \n",
    "    for lr in layers:\n",
    "        graph.add_node(lr[\"name\"])\n",
    "        \n",
    "    for lr in layers:\n",
    "        if len(lr[\"inbound_nodes\"])>0:\n",
    "            for _node in lr[\"inbound_nodes\"][0]:\n",
    "                graph.add_edge(_node[0],lr[\"name\"])\n",
    "            \n",
    "    return graph"
   ]
  },
  {
   "cell_type": "code",
   "execution_count": null,
   "metadata": {},
   "outputs": [],
   "source": [
    "graph = makeNXDiGraphfromConfig(res)"
   ]
  },
  {
   "cell_type": "code",
   "execution_count": null,
   "metadata": {},
   "outputs": [],
   "source": [
    "import networkx as nx\n",
    "import pydot\n",
    "from IPython.display import SVG\n",
    "\n",
    "def draw_graph(graph):\n",
    "    graph = nx.drawing.nx_pydot.to_pydot(graph)\n",
    "    svg_pic = graph.create_svg()\n",
    "    return SVG(svg_pic)"
   ]
  },
  {
   "cell_type": "code",
   "execution_count": null,
   "metadata": {},
   "outputs": [],
   "source": [
    "import keras.backend as K"
   ]
  },
  {
   "cell_type": "code",
   "execution_count": null,
   "metadata": {},
   "outputs": [],
   "source": [
    "input_data = np.random.rand(100,6,10)\n",
    "output_data = model.predict(input_data)"
   ]
  },
  {
   "cell_type": "code",
   "execution_count": null,
   "metadata": {},
   "outputs": [],
   "source": [
    "input_params = []\n",
    "input_params.extend(model.inputs)\n",
    "output_params = [model.layers[2].output]\n",
    "fun = K.function(input_params,output_params)\n",
    "rnn_output = fun([input_data])"
   ]
  },
  {
   "cell_type": "code",
   "execution_count": null,
   "metadata": {},
   "outputs": [],
   "source": [
    "rnn_output[0].shape"
   ]
  },
  {
   "cell_type": "code",
   "execution_count": null,
   "metadata": {},
   "outputs": [],
   "source": [
    "output_data[0].shape"
   ]
  },
  {
   "cell_type": "code",
   "execution_count": null,
   "metadata": {},
   "outputs": [],
   "source": [
    "res = rnn_output[0]-output_data[0]\n",
    "print np.max(np.abs(res))"
   ]
  },
  {
   "cell_type": "code",
   "execution_count": null,
   "metadata": {},
   "outputs": [],
   "source": []
  },
  {
   "cell_type": "code",
   "execution_count": null,
   "metadata": {},
   "outputs": [],
   "source": []
  },
  {
   "cell_type": "code",
   "execution_count": null,
   "metadata": {},
   "outputs": [],
   "source": []
  },
  {
   "cell_type": "code",
   "execution_count": null,
   "metadata": {},
   "outputs": [],
   "source": [
    "print K.variable([0,0]).__class__\n",
    "print K.constant([0,0]).__class__\n",
    "print K.placeholder([0,0]).__class__"
   ]
  }
 ],
 "metadata": {
  "kernelspec": {
   "display_name": "Python 2.7",
   "language": "python",
   "name": "python2"
  },
  "language_info": {
   "codemirror_mode": {
    "name": "ipython",
    "version": 2
   },
   "file_extension": ".py",
   "mimetype": "text/x-python",
   "name": "python",
   "nbconvert_exporter": "python",
   "pygments_lexer": "ipython2",
   "version": "2.7.12"
  }
 },
 "nbformat": 4,
 "nbformat_minor": 2
}
